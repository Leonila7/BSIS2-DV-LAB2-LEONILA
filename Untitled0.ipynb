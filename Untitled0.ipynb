{
  "nbformat": 4,
  "nbformat_minor": 0,
  "metadata": {
    "colab": {
      "provenance": [],
      "authorship_tag": "ABX9TyN4H7o+gVg/vX9NzxI0h5tP",
      "include_colab_link": true
    },
    "kernelspec": {
      "name": "python3",
      "display_name": "Python 3"
    },
    "language_info": {
      "name": "python"
    }
  },
  "cells": [
    {
      "cell_type": "markdown",
      "metadata": {
        "id": "view-in-github",
        "colab_type": "text"
      },
      "source": [
        "<a href=\"https://colab.research.google.com/github/Leonila7/BSIS2-DV-LAB2-LEONILA/blob/main/Untitled0.ipynb\" target=\"_parent\"><img src=\"https://colab.research.google.com/assets/colab-badge.svg\" alt=\"Open In Colab\"/></a>"
      ]
    },
    {
      "cell_type": "code",
      "execution_count": null,
      "metadata": {
        "id": "luQJ7biEvBeK"
      },
      "outputs": [],
      "source": [
        "\n",
        "print('Enter the first number')\n",
        "x = float(input())\n",
        "print('Enter the second number')\n",
        "y = float(input())\n",
        "\n",
        "sumxy = (x) + (y)\n",
        "diffxy = (x) - (y)\n",
        "prodxy = (x) * (y)\n",
        "quoxy = (x) / (y)\n",
        "expoxy = (x) ** (y)\n",
        "divxy = (x) // (y)\n",
        "remaxy = (x) % (y)\n",
        "\n",
        "print ('Sum:', x, '+', y, '=', sumxy)\n",
        "print ('Difference:', x, '-', y, '=', diffxy)\n",
        "print ('Product:', x, '*', y, '=', prodxy)\n",
        "print ('Quotient:', x, '/', y, '=', quoxy)\n",
        "print ('Power:', x, '^', y, '=', expoxy)\n",
        "print ('Division with remainder:', x, '/', y, '=', divxy)\n",
        "print ('Remainder:', remaxy)"
      ]
    }
  ]
}